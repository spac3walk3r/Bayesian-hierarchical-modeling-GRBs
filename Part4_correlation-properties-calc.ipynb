{
 "cells": [
  {
   "cell_type": "code",
   "execution_count": 1,
   "metadata": {},
   "outputs": [],
   "source": [
    "import warnings\n",
    "warnings.simplefilter('ignore')\n",
    "\n",
    "import logging\n",
    "logging.basicConfig(filename='GRESKE.log')\n",
    "\n",
    "# Scientific libraries\n",
    "import numpy as np\n",
    "import scipy.integrate as integrate\n",
    "\n",
    "# Import Pandas\n",
    "import pandas as pd\n",
    "\n",
    "# Astro\n",
    "import astropy.io.fits as fits\n",
    "from astropy import units as u\n",
    "from astropy.cosmology import WMAP9 as cosmo\n",
    "\n",
    "# Graphic libraries\n",
    "# if script:\n",
    "import matplotlib\n",
    "matplotlib.use('Agg')\n",
    "import matplotlib.pyplot as plt\n",
    "\n",
    "#if notebook:\n",
    "#%matplotlib notebook\n",
    "#import matplotlib.pyplot as plt\n",
    "\n",
    "\n",
    "#optional 3ML imports\n",
    "\n",
    "from threeML import *\n",
    "from threeML.io.file_utils import *\n",
    "from threeML.random_variates import RandomVariates\n",
    "\n",
    "import os\n",
    "import re\n",
    "\n",
    "# my new imports\n",
    "from grb_list import besties_list, multies_list, pulses_list, names_list\n",
    "from fit_results_getter import ResultGetter, ResultGetter_single, ResultGetter_pulse\n",
    "from models_params import Variates, Params\n",
    "from writers import models_writer, write_grb_data\n",
    "from betas_popper import evil_betas_writer, Beta_violator\n",
    "from physical_properties import my_band, my_cutoffpl, get_betas, Epeak_rest_frame, Flux_and_lumin_rest_frame"
   ]
  },
  {
   "cell_type": "code",
   "execution_count": 2,
   "metadata": {},
   "outputs": [],
   "source": [
    "besties = besties_list()\n",
    "multies = multies_list()\n",
    "pulsies = pulses_list()\n",
    "grb_names = names_list()"
   ]
  },
  {
   "cell_type": "code",
   "execution_count": 3,
   "metadata": {
    "collapsed": true
   },
   "outputs": [],
   "source": [
    "rootdir = '/data29s/fermi/abacelj/GRB_correlations/GRB_builder/'"
   ]
  },
  {
   "cell_type": "markdown",
   "metadata": {},
   "source": [
    "### main part"
   ]
  },
  {
   "cell_type": "code",
   "execution_count": 4,
   "metadata": {},
   "outputs": [],
   "source": [
    "# get all timebins results, new way; each result is list of timebins of that grb\n",
    "\n",
    "fit_results = []\n",
    "\n",
    "for trig, GRB_name, z in besties:\n",
    "    pulse = 0    \n",
    "    fit_result = ResultGetter_pulse(GRB_name, pulse)\n",
    "    fit_results.append(fit_result)\n",
    "\n",
    "for trig, GRB_name, z in multies:\n",
    "    \n",
    "    with within_directory(rootdir):\n",
    "\n",
    "        with within_directory(GRB_name):\n",
    "            number_of_pulses = 0\n",
    "            for i in range(1,10):\n",
    "                pulse_dir = 'prepared_pha_files_%d'%i\n",
    "                if(path_exists_and_is_directory(pulse_dir)==True):\n",
    "                    number_of_pulses += 1\n",
    "\n",
    "        for pulse in range(1,number_of_pulses+1):\n",
    "            \n",
    "            fit_result = ResultGetter_pulse(GRB_name, pulse)\n",
    "            fit_results.append(fit_result)"
   ]
  },
  {
   "cell_type": "code",
   "execution_count": 5,
   "metadata": {},
   "outputs": [
    {
     "data": {
      "text/plain": [
       "38"
      ]
     },
     "execution_count": 5,
     "metadata": {},
     "output_type": "execute_result"
    }
   ],
   "source": [
    "len(fit_results)"
   ]
  },
  {
   "cell_type": "code",
   "execution_count": 6,
   "metadata": {},
   "outputs": [],
   "source": [
    "peak_bins_list = pd.read_csv('peak_bins', delimiter='\\t')"
   ]
  },
  {
   "cell_type": "code",
   "execution_count": 7,
   "metadata": {
    "scrolled": true
   },
   "outputs": [],
   "source": [
    "peak_bins_id = peak_bins_list['peak_bin']-1  # position is bin number - 1"
   ]
  },
  {
   "cell_type": "code",
   "execution_count": 8,
   "metadata": {
    "collapsed": true
   },
   "outputs": [],
   "source": [
    "pulsies_names = peak_bins_list['GRB_name']"
   ]
  },
  {
   "cell_type": "code",
   "execution_count": 9,
   "metadata": {},
   "outputs": [],
   "source": [
    "# get a list of redshifts\n",
    "redshifts = []\n",
    "for trig, grb, z in pulsies:\n",
    "    redshifts.append(z)"
   ]
  },
  {
   "cell_type": "code",
   "execution_count": 10,
   "metadata": {},
   "outputs": [],
   "source": [
    "# get decay phase of fit_results\n",
    "\n",
    "decay_results = []\n",
    "\n",
    "for fit_result in fit_results:\n",
    "    \n",
    "    index = fit_results.index(fit_result)\n",
    "    \n",
    "    decay_result = fit_result[peak_bins_id[index]:]\n",
    "    decay_results.append(decay_result)"
   ]
  },
  {
   "cell_type": "code",
   "execution_count": 11,
   "metadata": {},
   "outputs": [
    {
     "data": {
      "text/plain": [
       "38"
      ]
     },
     "execution_count": 11,
     "metadata": {},
     "output_type": "execute_result"
    }
   ],
   "source": [
    "len(decay_results)"
   ]
  },
  {
   "cell_type": "code",
   "execution_count": 12,
   "metadata": {},
   "outputs": [
    {
     "name": "stdout",
     "output_type": "stream",
     "text": [
      "281\n"
     ]
    }
   ],
   "source": [
    "sum = 0\n",
    "for fit_result in fit_results:\n",
    "    sum += len(fit_result)\n",
    "print sum"
   ]
  },
  {
   "cell_type": "code",
   "execution_count": 13,
   "metadata": {},
   "outputs": [
    {
     "name": "stdout",
     "output_type": "stream",
     "text": [
      "166\n"
     ]
    }
   ],
   "source": [
    "sum = 0\n",
    "for decay_result in decay_results:\n",
    "    sum += len(decay_result)\n",
    "print sum"
   ]
  },
  {
   "cell_type": "code",
   "execution_count": null,
   "metadata": {},
   "outputs": [],
   "source": [
    "for decay_result in decay_results:\n",
    "    \n",
    "    index = decay_results.index(decay_result)\n",
    "    GRB_name = pulsies_names[index]\n",
    "    models_writer(GRB_name, decay_result)"
   ]
  },
  {
   "cell_type": "raw",
   "metadata": {},
   "source": []
  },
  {
   "cell_type": "code",
   "execution_count": 15,
   "metadata": {
    "scrolled": true
   },
   "outputs": [],
   "source": [
    "# now, calculate physical properties and write all to one file\n",
    "\n",
    "for decay_result in decay_results:\n",
    "    index = decay_results.index(decay_result)\n",
    "    GRB_name = pulsies_names[index]\n",
    "    \n",
    "    betas = get_betas(decay_result,GRB_name)\n",
    "    Epeak_rest, Epeak_rest_err = Epeak_rest_frame(decay_result, GRB_name, redshifts[index])\n",
    "    Flux, Flux_err, Lumin, Lumin_err = Flux_and_lumin_rest_frame(decay_result, GRB_name, redshifts[index], Epeak_rest)\n",
    "    write_grb_data(GRB_name, Epeak_rest, Epeak_rest_err, Lumin, Lumin_err, betas)"
   ]
  },
  {
   "cell_type": "code",
   "execution_count": null,
   "metadata": {
    "collapsed": true
   },
   "outputs": [],
   "source": []
  },
  {
   "cell_type": "code",
   "execution_count": 1,
   "metadata": {
    "collapsed": true
   },
   "outputs": [],
   "source": [
    "# read the data and pop out betas\n",
    "from pandas import read_csv\n",
    "pandas_data = read_csv('correlation_data_f5.txt', delimiter='\\t')"
   ]
  },
  {
   "cell_type": "code",
   "execution_count": 2,
   "metadata": {
    "collapsed": true
   },
   "outputs": [],
   "source": [
    "drop_list = []\n",
    "for i in range(len(pandas_data.beta)):\n",
    "    if(pandas_data.beta[i]>=-2):\n",
    "        drop_list.append(i)"
   ]
  },
  {
   "cell_type": "code",
   "execution_count": 3,
   "metadata": {},
   "outputs": [
    {
     "data": {
      "text/plain": [
       "[11, 31, 34, 41, 43, 45, 47, 51, 99, 135, 148, 150, 159, 162, 163]"
      ]
     },
     "execution_count": 3,
     "metadata": {},
     "output_type": "execute_result"
    }
   ],
   "source": [
    "drop_list"
   ]
  },
  {
   "cell_type": "code",
   "execution_count": 4,
   "metadata": {},
   "outputs": [
    {
     "data": {
      "text/plain": [
       "166"
      ]
     },
     "execution_count": 4,
     "metadata": {},
     "output_type": "execute_result"
    }
   ],
   "source": [
    "len(pandas_data)"
   ]
  },
  {
   "cell_type": "code",
   "execution_count": 5,
   "metadata": {
    "collapsed": true
   },
   "outputs": [],
   "source": [
    "pandas_data = pandas_data.drop(drop_list)"
   ]
  },
  {
   "cell_type": "code",
   "execution_count": 6,
   "metadata": {},
   "outputs": [
    {
     "data": {
      "text/plain": [
       "151"
      ]
     },
     "execution_count": 6,
     "metadata": {},
     "output_type": "execute_result"
    }
   ],
   "source": [
    "len(pandas_data)"
   ]
  },
  {
   "cell_type": "code",
   "execution_count": 12,
   "metadata": {},
   "outputs": [],
   "source": [
    "pandas_data.to_csv('/data29s/fermi/abacelj/GRB_correlations/Stan/data_for_fit_f5')"
   ]
  },
  {
   "cell_type": "code",
   "execution_count": null,
   "metadata": {
    "collapsed": true
   },
   "outputs": [],
   "source": []
  }
 ],
 "metadata": {
  "kernelspec": {
   "display_name": "Python 2",
   "language": "python",
   "name": "python2"
  },
  "language_info": {
   "codemirror_mode": {
    "name": "ipython",
    "version": 2
   },
   "file_extension": ".py",
   "mimetype": "text/x-python",
   "name": "python",
   "nbconvert_exporter": "python",
   "pygments_lexer": "ipython2",
   "version": "2.7.12"
  }
 },
 "nbformat": 4,
 "nbformat_minor": 2
}
